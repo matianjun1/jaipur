{
 "metadata": {
  "language_info": {
   "codemirror_mode": {
    "name": "ipython",
    "version": 3
   },
   "file_extension": ".py",
   "mimetype": "text/x-python",
   "name": "python",
   "nbconvert_exporter": "python",
   "pygments_lexer": "ipython3",
   "version": "3.8.5-final"
  },
  "orig_nbformat": 2,
  "kernelspec": {
   "name": "python_defaultSpec_1597595363671",
   "display_name": "Python 3.8.5 64-bit ('jaipur': venv)"
  }
 },
 "nbformat": 4,
 "nbformat_minor": 2,
 "cells": [
  {
   "cell_type": "code",
   "execution_count": 1,
   "metadata": {},
   "outputs": [],
   "source": [
    "import numpy as np\n",
    "from single import GameManager"
   ]
  },
  {
   "cell_type": "code",
   "execution_count": 2,
   "metadata": {
    "tags": []
   },
   "outputs": [
    {
     "output_type": "stream",
     "name": "stdout",
     "text": "[40  7  7  5  5  5  0  0  0  0  0  0  0  0  0  0  0  6  6  5  5  5  0  0\n  0  0  0  0  0  0  0  0  0  5  5  5  5  5  0  0  0  0  0  0  0  0  0  0\n  0  5  3  3  2  2  1  1  0  0  0  0  0  0  0  0  0  5  3  3  2  2  1  1\n  0  0  0  0  0  0  0  0  0  4  3  2  1  1  1  1  1  1  0  0  0  0  0  0\n  0  8  8  9  9 10  9 10 10  8  0  4  4  5  6  4  6  6  5  5  0  2  2  1\n  1  2  3  3  1  3  0  0  1  0  1  0  0  3  1  0  2  0  1  0  1  0  0  0\n  4  1  0  0]\n"
    },
    {
     "output_type": "execute_result",
     "data": {
      "text/plain": "array([1, 0, 2, 0, 1, 0, 1, 0, 0, 0])"
     },
     "metadata": {},
     "execution_count": 2
    }
   ],
   "source": [
    "g = GameManager()\n",
    "g.pprint()"
   ]
  },
  {
   "cell_type": "code",
   "execution_count": 3,
   "metadata": {
    "tags": []
   },
   "outputs": [
    {
     "output_type": "stream",
     "name": "stdout",
     "text": "[37  7  7  5  5  5  0  0  0  0  0  0  0  0  0  0  0  6  6  5  5  5  0  0\n  0  0  0  0  0  0  0  0  0  5  5  5  5  5  0  0  0  0  0  0  0  0  0  0\n  0  5  3  3  2  2  1  1  0  0  0  0  0  0  0  0  0  5  3  3  2  2  1  1\n  0  0  0  0  0  0  0  0  0  4  3  2  1  1  1  1  1  1  0  0  0  0  0  0\n  0  8  8  9  9 10  9 10 10  8  0  4  4  5  6  4  6  6  5  5  0  2  2  1\n  1  2  3  3  1  3  0  0  1  0  1  1  2  0  1  0  2  0  1  0  4  0  0  0\n  4  1  0  0]\n"
    },
    {
     "output_type": "execute_result",
     "data": {
      "text/plain": "array([1, 0, 2, 0, 1, 0, 4, 0, 0, 0])"
     },
     "metadata": {},
     "execution_count": 3
    }
   ],
   "source": [
    "g.get_camels()\n",
    "g.pprint()"
   ]
  },
  {
   "cell_type": "code",
   "execution_count": 4,
   "metadata": {
    "tags": []
   },
   "outputs": [
    {
     "output_type": "stream",
     "name": "stdout",
     "text": "[37  7  7  5  5  5  0  0  0  0  0  0  0  0  0  0  0  6  6  5  5  5  0  0\n  0  0  0  0  0  0  0  0  0  5  5  5  0  0  0  0  0  0  0  0  0  0  0  0\n  0  5  3  3  2  2  1  1  0  0  0  0  0  0  0  0  0  5  3  3  2  2  1  1\n  0  0  0  0  0  0  0  0  0  4  3  2  1  1  1  1  1  1  0  0  0  0  0  0\n  0  8  8  9  9 10  9 10 10  8  0  4  4  5  6  4  6  6  5  5  0  2  2  1\n  1  2  3  3  1  3  0  0  1  0  1  1  2  0  1  0  0  0  1  0  4 10  0  0\n  4  1  0  0]\n"
    },
    {
     "output_type": "execute_result",
     "data": {
      "text/plain": "array([ 1,  0,  0,  0,  1,  0,  4, 10,  0,  0])"
     },
     "metadata": {},
     "execution_count": 4
    }
   ],
   "source": [
    "g.sell(np.array([0, 0, 2, 0, 0, 0, 0]))\n",
    "g.pprint()"
   ]
  },
  {
   "cell_type": "code",
   "execution_count": 5,
   "metadata": {
    "tags": []
   },
   "outputs": [
    {
     "output_type": "stream",
     "name": "stdout",
     "text": "[37  7  7  5  5  5  0  0  0  0  0  0  0  0  0  0  0  6  6  5  5  5  0  0\n  0  0  0  0  0  0  0  0  0  5  5  5  0  0  0  0  0  0  0  0  0  0  0  0\n  0  5  3  3  2  2  1  1  0  0  0  0  0  0  0  0  0  5  3  3  2  2  1  1\n  0  0  0  0  0  0  0  0  0  4  3  2  1  1  1  1  1  1  0  0  0  0  0  0\n  0  8  8  9  9 10  9 10 10  8  0  4  4  5  6  4  6  6  5  5  0  2  2  1\n  1  2  3  3  1  3  0  0  0  0  0  1  2  2  1  1  0  1  1  0  2 10  0  0\n  4  1  0  0]\n"
    },
    {
     "output_type": "execute_result",
     "data": {
      "text/plain": "array([ 1,  1,  0,  1,  1,  0,  2, 10,  0,  0])"
     },
     "metadata": {},
     "execution_count": 5
    }
   ],
   "source": [
    "g.exchange(np.array([0, 1, 0, 1, 0, 0, -2]))\n",
    "g.pprint()"
   ]
  },
  {
   "cell_type": "code",
   "execution_count": 6,
   "metadata": {
    "tags": []
   },
   "outputs": [
    {
     "output_type": "stream",
     "name": "stdout",
     "text": "[36  7  7  5  5  5  0  0  0  0  0  0  0  0  0  0  0  6  6  5  5  5  0  0\n  0  0  0  0  0  0  0  0  0  5  5  5  0  0  0  0  0  0  0  0  0  0  0  0\n  0  5  3  3  2  2  1  1  0  0  0  0  0  0  0  0  0  5  3  3  2  2  1  1\n  0  0  0  0  0  0  0  0  0  4  3  2  1  1  1  1  1  1  0  0  0  0  0  0\n  0  8  8  9  9 10  9 10 10  8  0  4  4  5  6  4  6  6  5  5  0  2  2  1\n  1  2  3  3  1  3  0  0  0  0  0  1  3  2  1  1  0  1  2  0  2 10  0  0\n  4  1  0  0]\n"
    },
    {
     "output_type": "execute_result",
     "data": {
      "text/plain": "array([ 1,  1,  0,  1,  2,  0,  2, 10,  0,  0])"
     },
     "metadata": {},
     "execution_count": 6
    }
   ],
   "source": [
    "g.get(np.array([0, 0, 0, 0, 1, 0, 0]))\n",
    "g.pprint()"
   ]
  },
  {
   "cell_type": "code",
   "execution_count": null,
   "metadata": {},
   "outputs": [],
   "source": []
  }
 ]
}